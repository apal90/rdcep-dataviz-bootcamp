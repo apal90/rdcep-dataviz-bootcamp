{
 "cells": [
  {
   "cell_type": "markdown",
   "metadata": {},
   "source": [
    "# Basic line graph\n",
    "\n",
    "In this exercise we'll be recreating a line graph showing (or purporting to show) shark attacks by area from 2005–2014. Warts and all. After recreating this graph, you'll be modifying the code to improve the communicative power of the original.\n",
    "\n",
    "This exercise assumes some basic knowledge of python. Of course data visualization can be done in almost any language. Other than python, some common languages you might use on a regular basis for these sorts of tasks would be R, MATLAB, IDL, or Julia. For interactive graphs, the d3 JavaScript library is a popular choice."
   ]
  },
  {
   "cell_type": "markdown",
   "metadata": {},
   "source": [
    "The first step is to import the `pyplot` module from the `matplotlib` library. Often you will see this imported with the alias `plt` to save on typing."
   ]
  },
  {
   "cell_type": "code",
   "execution_count": 25,
   "metadata": {},
   "outputs": [],
   "source": [
    "import matplotlib.pyplot as plt\n",
    "import numpy as np"
   ]
  },
  {
   "cell_type": "markdown",
   "metadata": {},
   "source": [
    "Our data is stored in a l2-dimensional numpy array. "
   ]
  },
  {
   "cell_type": "code",
   "execution_count": 26,
   "metadata": {
    "collapsed": true
   },
   "outputs": [],
   "source": [
    "data = np.array([\n",
    "    [17, 21, 31, 28, 19, 14, 11, 27, 23, 28],\n",
    "    [10,  7, 12, 10, 22, 14, 13, 14, 10, 11],\n",
    "    [ 4,  3,  7,  1,  3,  4,  3, 10, 13,  7],\n",
    "    [ 5,  4,  5,  2,  0,  4,  2,  5,  6,  5],\n",
    "    [ 3,  1,  4,  2,  4,  4,  3,  5,  1,  4],\n",
    "    [ 2,  1,  2,  3,  1,  5,  4,  2,  1,  4],\n",
    "    [ 4,  4,  2,  0,  6,  8,  5,  4,  5,  2],\n",
    "    [ 0,  2,  1,  0,  0,  1,  4,  4,  5,  1],\n",
    "    [ 1,  3,  0,  0,  0,  2,  0,  0,  0,  0],\n",
    "    [ 1,  2,  0,  3,  1,  1,  2,  0,  1,  0],\n",
    "])"
   ]
  },
  {
   "cell_type": "markdown",
   "metadata": {},
   "source": [
    "It's very easy to make a simple graph, by iterating through the data, and plotting each list."
   ]
  },
  {
   "cell_type": "code",
   "execution_count": 27,
   "metadata": {},
   "outputs": [],
   "source": [
    "for values in data:\n",
    "    plt.plot(values)\n",
    "plt.show()"
   ]
  },
  {
   "cell_type": "markdown",
   "metadata": {},
   "source": [
    "But of course it leaves something to be desired. And doesn't look quite like the original. We want a bit more control over our graph, so we'll use `subplots` to generate separate `Figure` and `Axes` objects. We can also pass a `figsize` tuple to determine the size of our graph."
   ]
  },
  {
   "cell_type": "code",
   "execution_count": 28,
   "metadata": {},
   "outputs": [],
   "source": [
    "fig, ax = plt.subplots(figsize=(3.5, 5))\n",
    "for values in data:\n",
    "    ax.plot(values)\n",
    "plt.show()\n"
   ]
  },
  {
   "cell_type": "markdown",
   "metadata": {},
   "source": [
    "We can add a horizontal grid as well. The value of the `color` argument is a Hexidecimal RGB code. Other inputs are possible. `linestyle='-'` draws a solid line, but dots and dashes are possible. "
   ]
  },
  {
   "cell_type": "code",
   "execution_count": 29,
   "metadata": {},
   "outputs": [],
   "source": [
    "fig, ax = plt.subplots(figsize=(3.5, 5))\n",
    "for values in data:\n",
    "    ax.plot(values)\n",
    "# Add a horizontal grid aligned to the major ticks\n",
    "ax.yaxis.grid(which='major', color='#cccccc', linestyle='-', linewidth=1)\n",
    "plt.show()"
   ]
  },
  {
   "cell_type": "markdown",
   "metadata": {},
   "source": [
    "We can suppress the black edges. `plt.setp()` sets properties for objects. "
   ]
  },
  {
   "cell_type": "code",
   "execution_count": 30,
   "metadata": {},
   "outputs": [],
   "source": [
    "fig, ax = plt.subplots(figsize=(3.5, 5))\n",
    "for values in data:\n",
    "    ax.plot(values)\n",
    "ax.yaxis.grid(which='major', color='#cccccc', linestyle='-', linewidth=1)\n",
    "# Suppress the edges of the graph\n",
    "plt.setp(ax.spines.values(), color=None)\n",
    "plt.show()"
   ]
  },
  {
   "cell_type": "markdown",
   "metadata": {},
   "source": [
    "Same for tick marks."
   ]
  },
  {
   "cell_type": "code",
   "execution_count": 31,
   "metadata": {},
   "outputs": [],
   "source": [
    "fig, ax = plt.subplots(figsize=(3.5, 5))\n",
    "# I'm just moving the graph setup to the top of the block ...\n",
    "ax.yaxis.grid(which='major', color='#cccccc', linestyle='-', linewidth=1)\n",
    "plt.setp(ax.spines.values(), color=None)\n",
    "# Suppress the ticks (setting color to None will not work as expected)\n",
    "plt.setp([ax.get_xticklines(), ax.get_yticklines()], color='white')\n",
    "# ... and moving the plotting to the end\n",
    "for values in data:\n",
    "    ax.plot(values)\n",
    "plt.show()"
   ]
  },
  {
   "cell_type": "markdown",
   "metadata": {},
   "source": [
    "By now someone has almost certainly pointed out that the values along the x-axis are wrong."
   ]
  },
  {
   "cell_type": "code",
   "execution_count": 32,
   "metadata": {},
   "outputs": [],
   "source": [
    "fig, ax = plt.subplots(figsize=(3.5, 5))\n",
    "ax.yaxis.grid(which='major', color='#cccccc', linestyle='-', linewidth=1)\n",
    "plt.setp(ax.spines.values(), color=None)\n",
    "plt.setp([ax.get_xticklines(), ax.get_yticklines()], color='white')\n",
    "# Set values along the x-axis\n",
    "plt.xticks([2005, 2014])\n",
    "for values in data:\n",
    "    ax.plot(values)\n",
    "plt.show()"
   ]
  },
  {
   "cell_type": "markdown",
   "metadata": {},
   "source": [
    "Huh?!"
   ]
  },
  {
   "cell_type": "code",
   "execution_count": 33,
   "metadata": {},
   "outputs": [],
   "source": [
    "import numpy as np\n",
    "fig, ax = plt.subplots(figsize=(3.5, 5))\n",
    "ax.yaxis.grid(which='major', color='#cccccc', linestyle='-', linewidth=1)\n",
    "plt.setp(ax.spines.values(), color=None)\n",
    "plt.setp([ax.get_xticklines(), ax.get_yticklines()], color='white')\n",
    "plt.xticks([2005, 2014])\n",
    "for i in range(len(data)):\n",
    "    # Perhaps it's better to specify values along both the x- and y-axis\n",
    "    ax.plot(np.arange(2005, 2015), data[i])\n",
    "plt.show()\n"
   ]
  },
  {
   "cell_type": "markdown",
   "metadata": {},
   "source": [
    "Add names"
   ]
  },
  {
   "cell_type": "code",
   "execution_count": 34,
   "metadata": {},
   "outputs": [],
   "source": [
    "names = [\n",
    "    'Florida', 'Australia', 'Hawai‘i', 'S Carolina', 'California & N Carolina',\n",
    "    '', 'S Africa', 'Réunion Islands', 'Brazil &Bahamas', '',\n",
    "]"
   ]
  },
  {
   "cell_type": "code",
   "execution_count": 38,
   "metadata": {},
   "outputs": [
    {
     "name": "stderr",
     "output_type": "stream",
     "text": [
      "/Users/nathanmatteson/.virtualenvs/datavis_bootcamp/lib/python3.7/site-packages/matplotlib/figure.py:2299: UserWarning: This figure includes Axes that are not compatible with tight_layout, so results might be incorrect.\n  warnings.warn(\"This figure includes Axes that are not compatible \"\n"
     ]
    }
   ],
   "source": [
    "import numpy as np\n",
    "\n",
    "# A slightly different, clearer but more verbose way of doing things \n",
    "fig = plt.figure(figsize=(3.5, 5))\n",
    "# Specify 'margins' on all sides of the graph, to ensure\n",
    "# there's room for the text labels we're adding below. This pattern\n",
    "# of specifying `fig` and `ax` separately can give you more control\n",
    "# when building ensembles of multiple graphs.\n",
    "ax = fig.add_axes([.1, .1, 0.6, .9])\n",
    "ax.yaxis.grid(which='major', color='#cccccc', linestyle='-', linewidth=1)\n",
    "plt.setp(ax.spines.values(), color=None)\n",
    "plt.setp([ax.get_xticklines(), ax.get_yticklines()], color='white')\n",
    "plt.xticks([2005, 2014])\n",
    "for i in range(len(data)):\n",
    "    ax.plot(np.arange(2005, 2015), data[i])\n",
    "    # Place text to the right side of the lines, at the end of each \n",
    "    ax.text(2014.5, data[i][-1], names[i], fontsize=14)\n",
    "plt.show()"
   ]
  },
  {
   "cell_type": "markdown",
   "metadata": {},
   "source": [
    "And now we need to specify colors that match the original."
   ]
  },
  {
   "cell_type": "code",
   "execution_count": 36,
   "metadata": {},
   "outputs": [],
   "source": [
    "colors = [\n",
    "    '#8a1513', '#c32828', '#f47c27', '#f7b815', '#cfdeee', '#cfdeee', '#5e8eca',\n",
    "    '#2a5592', '#1c3666', '#1c3666',\n",
    "]"
   ]
  },
  {
   "cell_type": "code",
   "execution_count": 42,
   "metadata": {
    "collapsed": true
   },
   "outputs": [
    {
     "name": "stderr",
     "output_type": "stream",
     "text": [
      "/Users/nathanmatteson/.virtualenvs/datavis_bootcamp/lib/python3.7/site-packages/matplotlib/figure.py:2299: UserWarning: This figure includes Axes that are not compatible with tight_layout, so results might be incorrect.\n  warnings.warn(\"This figure includes Axes that are not compatible \"\n"
     ]
    }
   ],
   "source": [
    "import numpy as np\n",
    "\n",
    "fig = plt.figure(figsize=(5, 5))\n",
    "ax = fig.add_axes([.1, .1, 0.6, .9])\n",
    "ax.yaxis.grid(which='major', color='#cccccc', linestyle='-', linewidth=1)\n",
    "plt.setp(ax.spines.values(), color=None)\n",
    "plt.setp([ax.get_xticklines(), ax.get_yticklines()], color='white')\n",
    "plt.xticks([2005, 2014])\n",
    "for i in range(len(data)):\n",
    "    ax.plot(np.arange(2005, 2015), data[i], color=colors[i])\n",
    "    ax.text(2014.5, data[i][-1], names[i], fontsize=12, color=colors[i],\n",
    "            verticalalignment='center')\n",
    "plt.show()"
   ]
  },
  {
   "cell_type": "code",
   "execution_count": 49,
   "metadata": {},
   "outputs": [
    {
     "name": "stderr",
     "output_type": "stream",
     "text": [
      "/Users/nathanmatteson/.virtualenvs/datavis_bootcamp/lib/python3.7/site-packages/matplotlib/figure.py:2299: UserWarning: This figure includes Axes that are not compatible with tight_layout, so results might be incorrect.\n  warnings.warn(\"This figure includes Axes that are not compatible \"\n"
     ]
    }
   ],
   "source": [
    "fig = plt.figure(figsize=(5, 5))\n",
    "# Note: add more margin at top of figure to make room for a title.\n",
    "ax = fig.add_axes([.1, .2, 0.6, .8])\n",
    "ax.yaxis.grid(which='major', color='#cccccc', linestyle='-', linewidth=1)\n",
    "plt.setp(ax.spines.values(), color=None)\n",
    "plt.setp([ax.get_xticklines(), ax.get_yticklines()], color='white')\n",
    "plt.xticks([2005, 2014])\n",
    "# Set the text for the title.\n",
    "ax.set_title('Total shark attacks by area (2005–2014)')\n",
    "# Add arbitrary text to the figure. The first two arguments determine\n",
    "# the horizontal and vertical positioning of the text with respect to\n",
    "# the bottom left corner of the figure.\n",
    "fig.text(.1, .05, 'Source\\nInternational Shark Attack File, Florida Museum '\n",
    "         'of Natural History,\\nUniversity of Florida '\n",
    "         '(Last updated Feb. 11, 2015)', fontsize=8)\n",
    "for i in range(len(data)):\n",
    "    ax.plot(np.arange(2005, 2015), data[i], color=colors[i])\n",
    "    ax.text(2014.5, data[i][-1], names[i], fontsize=12, color=colors[i],\n",
    "            verticalalignment='center')\n",
    "plt.show()"
   ]
  },
  {
   "cell_type": "markdown",
   "metadata": {},
   "source": []
  },
  {
   "cell_type": "code",
   "execution_count": 57,
   "metadata": {},
   "outputs": [
    {
     "name": "stderr",
     "output_type": "stream",
     "text": [
      "/Users/nathanmatteson/.virtualenvs/datavis_bootcamp/lib/python3.7/site-packages/matplotlib/figure.py:2299: UserWarning: This figure includes Axes that are not compatible with tight_layout, so results might be incorrect.\n  warnings.warn(\"This figure includes Axes that are not compatible \"\n"
     ]
    }
   ],
   "source": [
    "fig = plt.figure(figsize=(5, 5))\n",
    "ax = fig.add_axes([.1, .2, 0.5, .7])\n",
    "ax.yaxis.grid(which='major', color='#cccccc', linestyle='-', linewidth=1)\n",
    "plt.setp(ax.spines.values(), color=None)\n",
    "plt.setp([ax.get_xticklines(), ax.get_yticklines()], color='white')\n",
    "plt.xticks([2005, 2014])\n",
    "fig.suptitle('Total shark attacks by area (2005–2014)', \n",
    "             x=.05, horizontalalignment='left')\n",
    "fig.text(.05, .05, 'SOURCE\\nInternational Shark Attack File, '\n",
    "                   'Florida Museum of Natural History,\\n'\n",
    "                   'University of Florida (Last updated Feb. 11, 2015)', \n",
    "         fontsize=8)\n",
    "for i in range(len(data)):\n",
    "    ax.plot(np.arange(2005, 2015), data[i], color=colors[i])\n",
    "    ax.text(2014.5, data[i][-1], names[i], fontsize=12, color=colors[i],\n",
    "            verticalalignment='center')\n",
    "plt.show()"
   ]
  },
  {
   "cell_type": "code",
   "execution_count": null,
   "metadata": {},
   "outputs": [],
   "source": []
  }
 ],
 "metadata": {
  "kernelspec": {
   "display_name": "Python 2",
   "language": "python",
   "name": "python2"
  },
  "language_info": {
   "codemirror_mode": {
    "name": "ipython",
    "version": 2
   },
   "file_extension": ".py",
   "mimetype": "text/x-python",
   "name": "python",
   "nbconvert_exporter": "python",
   "pygments_lexer": "ipython2",
   "version": "2.7.6"
  }
 },
 "nbformat": 4,
 "nbformat_minor": 0
}
